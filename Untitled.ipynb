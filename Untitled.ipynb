{
 "cells": [
  {
   "cell_type": "code",
   "execution_count": 1,
   "id": "b4d2c6a2-eb62-4019-a2ac-6c3af5df46a8",
   "metadata": {},
   "outputs": [
    {
     "name": "stdout",
     "output_type": "stream",
     "text": [
      "   customer_id     customer_name     country           city\n",
      "0         9780      Jessica Hart  Martinique  South William\n",
      "1         9169         Amy Clark  Kazakhstan     Davisville\n",
      "2         6631  Danielle Elliott     Armenia     East Danny\n",
      "3         8772     Robin Mendoza      Uganda    Johnsonbury\n",
      "4         8913    Abigail Miller     Namibia  Wrightchester\n",
      "Index(['customer_id', 'customer_name', 'country', 'city'], dtype='object')\n"
     ]
    }
   ],
   "source": [
    "import pandas as pd \n",
    "\n",
    "# Load customer data from JSON file\n",
    "customer_data = pd.read_json('customers.json')\n",
    "\n",
    "# Display the first few rows of the customer data\n",
    "print(customer_data.head())\n",
    "\n",
    "# Display column names\n",
    "print(customer_data.columns)\n"
   ]
  },
  {
   "cell_type": "code",
   "execution_count": 2,
   "id": "39ee604a-ce15-4d80-a87f-eea4b7ca932c",
   "metadata": {},
   "outputs": [
    {
     "name": "stdout",
     "output_type": "stream",
     "text": [
      "      order_id  customer_id  product_id         product_name product_category  \\\n",
      "9995      9996         1496        9676  Range home & kitche   Home & Kitchen   \n",
      "9996      9997         7288        9927             Once toy             Toys   \n",
      "9997      9998         8381        3852          Human beaut           Beauty   \n",
      "9998      9999         5494        7324          Light beaut           Beauty   \n",
      "9999     10000         1490        6547      Source furnitur        Furniture   \n",
      "\n",
      "          payment_type  qty  price            datetime ecommerce_website_name  \\\n",
      "9995            Wallet   39  61151 2024-03-17 09:06:05            www.ebay.in   \n",
      "9996  Internet Banking   44  53963 2024-06-17 08:04:22          www.amazon.in   \n",
      "9997               UPI   48  26032 2023-02-05 04:20:30       www.tatacliq.com   \n",
      "9998               UPI   17  28277 2024-02-17 03:05:57           www.etsy.com   \n",
      "9999               UPI   34  91020 2023-01-11 03:02:53       www.flipkart.com   \n",
      "\n",
      "     payment_txn_id payment_txn_success      failure_reason  \n",
      "9995       03c982f7                   Y                      \n",
      "9996       46bd0811                   N        Blocked Card  \n",
      "9997       d115279c                   Y                      \n",
      "9998       6d1628b3                   N        Card Expired  \n",
      "9999       224381cd                   N  Insufficient Funds  \n",
      "Index(['order_id', 'customer_id', 'product_id', 'product_name',\n",
      "       'product_category', 'payment_type', 'qty', 'price', 'datetime',\n",
      "       'ecommerce_website_name', 'payment_txn_id', 'payment_txn_success',\n",
      "       'failure_reason'],\n",
      "      dtype='object')\n"
     ]
    }
   ],
   "source": [
    "# Load transaction data from JSON file\n",
    "transaction_data = pd.read_json('transaction_logs.json')\n",
    "\n",
    "# Display the last few rows of the transaction data\n",
    "print(transaction_data.tail())\n",
    "\n",
    "# Display column names\n",
    "print(transaction_data.columns)\n"
   ]
  },
  {
   "cell_type": "code",
   "execution_count": 3,
   "id": "3355ab1c-c56c-48f0-9946-e62b7d3bed31",
   "metadata": {},
   "outputs": [
    {
     "name": "stdout",
     "output_type": "stream",
     "text": [
      "0      False\n",
      "1      False\n",
      "2      False\n",
      "3      False\n",
      "4      False\n",
      "       ...  \n",
      "995    False\n",
      "996    False\n",
      "997    False\n",
      "998    False\n",
      "999    False\n",
      "Length: 1000, dtype: bool\n",
      "<class 'pandas.core.frame.DataFrame'>\n",
      "RangeIndex: 1000 entries, 0 to 999\n",
      "Data columns (total 4 columns):\n",
      " #   Column         Non-Null Count  Dtype \n",
      "---  ------         --------------  ----- \n",
      " 0   customer_id    1000 non-null   int64 \n",
      " 1   customer_name  1000 non-null   object\n",
      " 2   country        1000 non-null   object\n",
      " 3   city           1000 non-null   object\n",
      "dtypes: int64(1), object(3)\n",
      "memory usage: 31.4+ KB\n",
      "None\n",
      "       customer_id\n",
      "count  1000.000000\n",
      "mean   5053.297000\n",
      "std    2792.627256\n",
      "min     102.000000\n",
      "25%    2662.000000\n",
      "50%    5156.000000\n",
      "75%    7395.000000\n",
      "max    9991.000000\n"
     ]
    }
   ],
   "source": [
    "# Remove empty cells\n",
    "cleaned_customer_data = customer_data.dropna()\n",
    "\n",
    "# Check for duplicates\n",
    "print(cleaned_customer_data.duplicated())\n",
    "\n",
    "# Display basic information about the DataFrame\n",
    "print(cleaned_customer_data.info())\n",
    "\n",
    "# Generate summary statistics for numerical columns\n",
    "print(cleaned_customer_data.describe())\n"
   ]
  },
  {
   "cell_type": "code",
   "execution_count": 4,
   "id": "cd41297d-493b-4d6b-8fe9-5b3760cda13e",
   "metadata": {},
   "outputs": [
    {
     "name": "stdout",
     "output_type": "stream",
     "text": [
      "0       False\n",
      "1       False\n",
      "2       False\n",
      "3       False\n",
      "4       False\n",
      "        ...  \n",
      "9995    False\n",
      "9996    False\n",
      "9997    False\n",
      "9998    False\n",
      "9999    False\n",
      "Length: 10000, dtype: bool\n",
      "<class 'pandas.core.frame.DataFrame'>\n",
      "RangeIndex: 10000 entries, 0 to 9999\n",
      "Data columns (total 13 columns):\n",
      " #   Column                  Non-Null Count  Dtype         \n",
      "---  ------                  --------------  -----         \n",
      " 0   order_id                10000 non-null  int64         \n",
      " 1   customer_id             10000 non-null  int64         \n",
      " 2   product_id              10000 non-null  int64         \n",
      " 3   product_name            10000 non-null  object        \n",
      " 4   product_category        10000 non-null  object        \n",
      " 5   payment_type            10000 non-null  object        \n",
      " 6   qty                     10000 non-null  int64         \n",
      " 7   price                   10000 non-null  int64         \n",
      " 8   datetime                10000 non-null  datetime64[ns]\n",
      " 9   ecommerce_website_name  10000 non-null  object        \n",
      " 10  payment_txn_id          10000 non-null  object        \n",
      " 11  payment_txn_success     10000 non-null  bool          \n",
      " 12  failure_reason          10000 non-null  object        \n",
      "dtypes: bool(1), datetime64[ns](1), int64(5), object(6)\n",
      "memory usage: 947.4+ KB\n",
      "None\n",
      "          order_id   customer_id   product_id           qty         price  \\\n",
      "count  10000.00000  10000.000000  10000.00000  10000.000000  10000.000000   \n",
      "mean    5000.50000   5540.854400   5153.96520     25.524800  49682.003700   \n",
      "min        1.00000    109.000000    201.00000      1.000000     10.000000   \n",
      "25%     2500.75000   3141.500000   2709.75000     13.000000  24704.750000   \n",
      "50%     5000.50000   5989.000000   5195.00000     26.000000  49245.500000   \n",
      "75%     7500.25000   8341.500000   7599.00000     38.000000  74755.000000   \n",
      "max    10000.00000   9991.000000   9996.00000     50.000000  99989.000000   \n",
      "std     2886.89568   2776.686488   2828.45628     14.456946  28860.567215   \n",
      "\n",
      "                            datetime  \n",
      "count                          10000  \n",
      "mean   2023-01-25 09:32:06.897900288  \n",
      "min              2021-07-24 00:13:42  \n",
      "25%       2022-04-29 00:09:34.500000  \n",
      "50%              2023-01-22 13:19:27  \n",
      "75%              2023-10-28 13:48:13  \n",
      "max              2024-07-23 08:41:09  \n",
      "std                              NaN  \n"
     ]
    }
   ],
   "source": [
    "# Convert 'datetime' column to datetime format\n",
    "transaction_data['datetime'] = pd.to_datetime(transaction_data['datetime'])\n",
    "\n",
    "# Convert 'payment_txn_success' column to boolean\n",
    "transaction_data['payment_txn_success'] = transaction_data['payment_txn_success'].astype(bool)\n",
    "\n",
    "# Remove empty cells\n",
    "cleaned_transaction_data = transaction_data.dropna()\n",
    "\n",
    "# Check for duplicates\n",
    "print(cleaned_transaction_data.duplicated())\n",
    "\n",
    "# Display basic information about the DataFrame\n",
    "print(cleaned_transaction_data.info())\n",
    "\n",
    "# Generate summary statistics for numerical columns\n",
    "print(cleaned_transaction_data.describe())\n"
   ]
  },
  {
   "cell_type": "code",
   "execution_count": 5,
   "id": "bdc393ff-7c50-4ccd-a86a-9ae373581590",
   "metadata": {},
   "outputs": [
    {
     "name": "stdout",
     "output_type": "stream",
     "text": [
      "('db',)\n",
      "('information_schema',)\n",
      "('kvs',)\n",
      "('mysql',)\n",
      "('p0',)\n",
      "('performance_schema',)\n",
      "('project_p0',)\n",
      "('revp0',)\n",
      "('sys',)\n"
     ]
    }
   ],
   "source": [
    "import mysql.connector\n",
    "\n",
    "# Connect to MySQL database\n",
    "db = mysql.connector.connect(\n",
    "    host=\"localhost\",\n",
    "    user=\"root\",\n",
    "    password=\"Venkatasai@99\",\n",
    "    database=\"kvs\"\n",
    ")\n",
    "\n",
    "# Create a cursor object\n",
    "cursor = db.cursor(buffered=True)\n",
    "\n",
    "# View all databases\n",
    "cursor.execute(\"SHOW DATABASES\")\n",
    "databases = cursor.fetchall()\n",
    "for db in databases:\n",
    "    print(db)\n"
   ]
  },
  {
   "cell_type": "code",
   "execution_count": 9,
   "id": "e4fe4c81-869b-4dcd-ad61-2a054f974590",
   "metadata": {},
   "outputs": [
    {
     "ename": "ProgrammingError",
     "evalue": "2055: Cursor is not connected",
     "output_type": "error",
     "traceback": [
      "\u001b[1;31m---------------------------------------------------------------------------\u001b[0m",
      "\u001b[1;31mReferenceError\u001b[0m                            Traceback (most recent call last)",
      "File \u001b[1;32m~\\AppData\\Local\\Programs\\Python\\Python310\\lib\\site-packages\\mysql\\connector\\cursor_cext.py:326\u001b[0m, in \u001b[0;36mCMySQLCursor.execute\u001b[1;34m(self, operation, params, multi)\u001b[0m\n\u001b[0;32m    325\u001b[0m \u001b[38;5;28;01mtry\u001b[39;00m:\n\u001b[1;32m--> 326\u001b[0m     \u001b[38;5;28;01mif\u001b[39;00m \u001b[38;5;129;01mnot\u001b[39;00m \u001b[38;5;28mself\u001b[39m\u001b[38;5;241m.\u001b[39m_connection \u001b[38;5;129;01mor\u001b[39;00m \u001b[38;5;28mself\u001b[39m\u001b[38;5;241m.\u001b[39m_connection\u001b[38;5;241m.\u001b[39mis_closed():\n\u001b[0;32m    327\u001b[0m         \u001b[38;5;28;01mraise\u001b[39;00m ProgrammingError\n",
      "\u001b[1;31mReferenceError\u001b[0m: weakly-referenced object no longer exists",
      "\nThe above exception was the direct cause of the following exception:\n",
      "\u001b[1;31mProgrammingError\u001b[0m                          Traceback (most recent call last)",
      "Cell \u001b[1;32mIn[9], line 1\u001b[0m\n\u001b[1;32m----> 1\u001b[0m \u001b[43mcursor\u001b[49m\u001b[38;5;241;43m.\u001b[39;49m\u001b[43mexecute\u001b[49m\u001b[43m(\u001b[49m\u001b[38;5;124;43m\"\u001b[39;49m\u001b[38;5;124;43mUSE kvs\u001b[39;49m\u001b[38;5;124;43m\"\u001b[39;49m\u001b[43m)\u001b[49m\n\u001b[0;32m      3\u001b[0m \u001b[38;5;66;03m# Create tables\u001b[39;00m\n\u001b[0;32m      4\u001b[0m cursor\u001b[38;5;241m.\u001b[39mexecute(\u001b[38;5;124m'''\u001b[39m\n\u001b[0;32m      5\u001b[0m \u001b[38;5;124mCREATE TABLE Customers (\u001b[39m\n\u001b[0;32m      6\u001b[0m \u001b[38;5;124m    customer_id INT PRIMARY KEY,\u001b[39m\n\u001b[1;32m   (...)\u001b[0m\n\u001b[0;32m     10\u001b[0m \u001b[38;5;124m);\u001b[39m\n\u001b[0;32m     11\u001b[0m \u001b[38;5;124m'''\u001b[39m)\n",
      "File \u001b[1;32m~\\AppData\\Local\\Programs\\Python\\Python310\\lib\\site-packages\\mysql\\connector\\cursor_cext.py:329\u001b[0m, in \u001b[0;36mCMySQLCursor.execute\u001b[1;34m(self, operation, params, multi)\u001b[0m\n\u001b[0;32m    327\u001b[0m         \u001b[38;5;28;01mraise\u001b[39;00m ProgrammingError\n\u001b[0;32m    328\u001b[0m \u001b[38;5;28;01mexcept\u001b[39;00m (ProgrammingError, \u001b[38;5;167;01mReferenceError\u001b[39;00m) \u001b[38;5;28;01mas\u001b[39;00m err:\n\u001b[1;32m--> 329\u001b[0m     \u001b[38;5;28;01mraise\u001b[39;00m ProgrammingError(\u001b[38;5;124m\"\u001b[39m\u001b[38;5;124mCursor is not connected\u001b[39m\u001b[38;5;124m\"\u001b[39m, \u001b[38;5;241m2055\u001b[39m) \u001b[38;5;28;01mfrom\u001b[39;00m \u001b[38;5;21;01merr\u001b[39;00m\n\u001b[0;32m    330\u001b[0m \u001b[38;5;28mself\u001b[39m\u001b[38;5;241m.\u001b[39m_connection\u001b[38;5;241m.\u001b[39mhandle_unread_result()\n\u001b[0;32m    332\u001b[0m stmt \u001b[38;5;241m=\u001b[39m \u001b[38;5;124mb\u001b[39m\u001b[38;5;124m\"\u001b[39m\u001b[38;5;124m\"\u001b[39m\n",
      "\u001b[1;31mProgrammingError\u001b[0m: 2055: Cursor is not connected"
     ]
    }
   ],
   "source": [
    "_revstore"
   ]
  },
  {
   "cell_type": "code",
   "execution_count": null,
   "id": "925ca64a-c046-4c8b-a9a6-60fd6e997447",
   "metadata": {},
   "outputs": [],
   "source": []
  }
 ],
 "metadata": {
  "kernelspec": {
   "display_name": "Python 3 (ipykernel)",
   "language": "python",
   "name": "python3"
  },
  "language_info": {
   "codemirror_mode": {
    "name": "ipython",
    "version": 3
   },
   "file_extension": ".py",
   "mimetype": "text/x-python",
   "name": "python",
   "nbconvert_exporter": "python",
   "pygments_lexer": "ipython3",
   "version": "3.10.1"
  }
 },
 "nbformat": 4,
 "nbformat_minor": 5
}
