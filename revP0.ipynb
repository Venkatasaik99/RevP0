{
 "cells": [
  {
   "cell_type": "code",
   "execution_count": 18,
   "id": "387c1718-573a-4e1c-ae1f-b511baaa880d",
   "metadata": {},
   "outputs": [
    {
     "data": {
      "text/plain": [
       "<bound method NDFrame.head of      customer_id     customer_name      country           city\n",
       "0           9780      Jessica Hart   Martinique  South William\n",
       "1           9169         Amy Clark   Kazakhstan     Davisville\n",
       "2           6631  Danielle Elliott      Armenia     East Danny\n",
       "3           8772     Robin Mendoza       Uganda    Johnsonbury\n",
       "4           8913    Abigail Miller      Namibia  Wrightchester\n",
       "..           ...               ...          ...            ...\n",
       "995         6357    Jessica Castro     Dominica     Deannastad\n",
       "996          244    Cheryl Ramirez       Malawi  Martinezmouth\n",
       "997         4490   Luis Strickland        Italy     Oneilltown\n",
       "998         2984    Jennifer Kelly      Bahamas    Xavierville\n",
       "999         8760    Anthony Wilson  Switzerland      Torreston\n",
       "\n",
       "[1000 rows x 4 columns]>"
      ]
     },
     "execution_count": 18,
     "metadata": {},
     "output_type": "execute_result"
    }
   ],
   "source": [
    "#step1 : reading json\n",
    "\n",
    "import pandas as pd\n",
    "\n",
    "\n",
    "# Load JSON data into a DataFrame\n",
    "data = pd.read_json(\"customers.json\")\n",
    "\n",
    "# Display the DataFrame\n",
    "data.head\n"
   ]
  },
  {
   "cell_type": "code",
   "execution_count": 19,
   "id": "d566c081-01e3-400c-9569-43421f084fcd",
   "metadata": {},
   "outputs": [
    {
     "name": "stdout",
     "output_type": "stream",
     "text": [
      "Index(['customer_id', 'customer_name', 'country', 'city'], dtype='object')\n"
     ]
    }
   ],
   "source": [
    "print(data.columns)\n"
   ]
  },
  {
   "cell_type": "code",
   "execution_count": 20,
   "id": "ac3f6d0a-17a7-4599-a591-9243a58792c0",
   "metadata": {},
   "outputs": [
    {
     "name": "stdout",
     "output_type": "stream",
     "text": [
      "Index(['customer_id', 'customer_name', 'country', 'city'], dtype='object')\n"
     ]
    }
   ],
   "source": [
    "new_df = data.dropna() \n",
    "print(data.columns)"
   ]
  },
  {
   "cell_type": "code",
   "execution_count": 21,
   "id": "dd898d33-078d-4669-91b9-dd0dd2907127",
   "metadata": {},
   "outputs": [
    {
     "name": "stdout",
     "output_type": "stream",
     "text": [
      "0      False\n",
      "1      False\n",
      "2      False\n",
      "3      False\n",
      "4      False\n",
      "       ...  \n",
      "995    False\n",
      "996    False\n",
      "997    False\n",
      "998    False\n",
      "999    False\n",
      "Length: 1000, dtype: bool\n"
     ]
    }
   ],
   "source": [
    "print(data.duplicated())"
   ]
  },
  {
   "cell_type": "code",
   "execution_count": 23,
   "id": "ce0fc9cb-4dbb-488e-9ce4-b5bbb7b977d4",
   "metadata": {},
   "outputs": [
    {
     "name": "stdout",
     "output_type": "stream",
     "text": [
      "<class 'pandas.core.frame.DataFrame'>\n",
      "RangeIndex: 1000 entries, 0 to 999\n",
      "Data columns (total 4 columns):\n",
      " #   Column         Non-Null Count  Dtype \n",
      "---  ------         --------------  ----- \n",
      " 0   customer_id    1000 non-null   int64 \n",
      " 1   customer_name  1000 non-null   object\n",
      " 2   country        1000 non-null   object\n",
      " 3   city           1000 non-null   object\n",
      "dtypes: int64(1), object(3)\n",
      "memory usage: 31.4+ KB\n",
      "None\n"
     ]
    }
   ],
   "source": [
    "print(data.info())"
   ]
  },
  {
   "cell_type": "code",
   "execution_count": 24,
   "id": "807a032f-5b7e-49c1-837a-f9c63a6bb5c2",
   "metadata": {},
   "outputs": [
    {
     "name": "stdout",
     "output_type": "stream",
     "text": [
      "       customer_id\n",
      "count  1000.000000\n",
      "mean   5053.297000\n",
      "std    2792.627256\n",
      "min     102.000000\n",
      "25%    2662.000000\n",
      "50%    5156.000000\n",
      "75%    7395.000000\n",
      "max    9991.000000\n"
     ]
    }
   ],
   "source": [
    "print(data.describe())"
   ]
  },
  {
   "cell_type": "code",
   "execution_count": 26,
   "id": "c64d8939-2b17-42a7-847b-07bb57031383",
   "metadata": {},
   "outputs": [],
   "source": [
    "#transaction data set\n",
    "transaction_data = pd.read_json('transaction_logs.json')"
   ]
  },
  {
   "cell_type": "code",
   "execution_count": 27,
   "id": "3efa1040-568a-4e33-ba01-f96d7bc1f6d9",
   "metadata": {},
   "outputs": [
    {
     "name": "stdout",
     "output_type": "stream",
     "text": [
      "Index(['order_id', 'customer_id', 'product_id', 'product_name',\n",
      "       'product_category', 'payment_type', 'qty', 'price', 'datetime',\n",
      "       'ecommerce_website_name', 'payment_txn_id', 'payment_txn_success',\n",
      "       'failure_reason'],\n",
      "      dtype='object')\n"
     ]
    }
   ],
   "source": [
    "print(transaction_data.columns)"
   ]
  },
  {
   "cell_type": "code",
   "execution_count": 28,
   "id": "a72e0c03-edc3-4211-9402-d817272a4894",
   "metadata": {},
   "outputs": [
    {
     "name": "stdout",
     "output_type": "stream",
     "text": [
      "Index(['order_id', 'customer_id', 'product_id', 'product_name',\n",
      "       'product_category', 'payment_type', 'qty', 'price', 'datetime',\n",
      "       'ecommerce_website_name', 'payment_txn_id', 'payment_txn_success',\n",
      "       'failure_reason'],\n",
      "      dtype='object')\n"
     ]
    }
   ],
   "source": [
    "new_df = transaction_data.dropna() \n",
    "print(transaction_data.columns)"
   ]
  },
  {
   "cell_type": "code",
   "execution_count": 29,
   "id": "ac22f264-984e-4c20-93e5-4363b351874e",
   "metadata": {},
   "outputs": [
    {
     "name": "stdout",
     "output_type": "stream",
     "text": [
      "0       False\n",
      "1       False\n",
      "2       False\n",
      "3       False\n",
      "4       False\n",
      "        ...  \n",
      "9995    False\n",
      "9996    False\n",
      "9997    False\n",
      "9998    False\n",
      "9999    False\n",
      "Length: 10000, dtype: bool\n"
     ]
    }
   ],
   "source": [
    "print(transaction_data.duplicated())"
   ]
  },
  {
   "cell_type": "code",
   "execution_count": 30,
   "id": "34d52d3c-b7ee-4368-bd63-8ac85c081eb1",
   "metadata": {},
   "outputs": [
    {
     "name": "stdout",
     "output_type": "stream",
     "text": [
      "<class 'pandas.core.frame.DataFrame'>\n",
      "RangeIndex: 10000 entries, 0 to 9999\n",
      "Data columns (total 13 columns):\n",
      " #   Column                  Non-Null Count  Dtype         \n",
      "---  ------                  --------------  -----         \n",
      " 0   order_id                10000 non-null  int64         \n",
      " 1   customer_id             10000 non-null  int64         \n",
      " 2   product_id              10000 non-null  int64         \n",
      " 3   product_name            10000 non-null  object        \n",
      " 4   product_category        10000 non-null  object        \n",
      " 5   payment_type            10000 non-null  object        \n",
      " 6   qty                     10000 non-null  int64         \n",
      " 7   price                   10000 non-null  int64         \n",
      " 8   datetime                10000 non-null  datetime64[ns]\n",
      " 9   ecommerce_website_name  10000 non-null  object        \n",
      " 10  payment_txn_id          10000 non-null  object        \n",
      " 11  payment_txn_success     10000 non-null  object        \n",
      " 12  failure_reason          10000 non-null  object        \n",
      "dtypes: datetime64[ns](1), int64(5), object(7)\n",
      "memory usage: 1015.8+ KB\n",
      "None\n"
     ]
    }
   ],
   "source": [
    "print(transaction_data.info())"
   ]
  },
  {
   "cell_type": "code",
   "execution_count": 31,
   "id": "91aea411-ee09-4a07-8cfb-3d3eae6845f0",
   "metadata": {},
   "outputs": [
    {
     "name": "stdout",
     "output_type": "stream",
     "text": [
      "          order_id   customer_id   product_id           qty         price  \\\n",
      "count  10000.00000  10000.000000  10000.00000  10000.000000  10000.000000   \n",
      "mean    5000.50000   5540.854400   5153.96520     25.524800  49682.003700   \n",
      "min        1.00000    109.000000    201.00000      1.000000     10.000000   \n",
      "25%     2500.75000   3141.500000   2709.75000     13.000000  24704.750000   \n",
      "50%     5000.50000   5989.000000   5195.00000     26.000000  49245.500000   \n",
      "75%     7500.25000   8341.500000   7599.00000     38.000000  74755.000000   \n",
      "max    10000.00000   9991.000000   9996.00000     50.000000  99989.000000   \n",
      "std     2886.89568   2776.686488   2828.45628     14.456946  28860.567215   \n",
      "\n",
      "                            datetime  \n",
      "count                          10000  \n",
      "mean   2023-01-25 09:32:06.897900288  \n",
      "min              2021-07-24 00:13:42  \n",
      "25%       2022-04-29 00:09:34.500000  \n",
      "50%              2023-01-22 13:19:27  \n",
      "75%              2023-10-28 13:48:13  \n",
      "max              2024-07-23 08:41:09  \n",
      "std                              NaN  \n"
     ]
    }
   ],
   "source": [
    "print(transaction_data.describe())"
   ]
  },
  {
   "cell_type": "code",
   "execution_count": 40,
   "id": "6286d18b-d8eb-4674-841d-39c846c3faae",
   "metadata": {},
   "outputs": [],
   "source": [
    "# database connections\n",
    "\n",
    "import mysql.connector\n",
    "db = mysql.connector.connect(\n",
    " host = \"localhost\",\n",
    " user=\"root\",\n",
    " password = \"Venkatasai@99\",\n",
    " database = \"p0\"\n",
    ")"
   ]
  },
  {
   "cell_type": "code",
   "execution_count": 41,
   "id": "14efe9e7-555a-45af-87e7-8d98c881a7b6",
   "metadata": {},
   "outputs": [
    {
     "name": "stdout",
     "output_type": "stream",
     "text": [
      "('db',)\n",
      "('information_schema',)\n",
      "('kvs',)\n",
      "('mysql',)\n",
      "('p0',)\n",
      "('performance_schema',)\n",
      "('project_p0',)\n",
      "('sys',)\n"
     ]
    }
   ],
   "source": [
    "#Viewing all the databases present\n",
    "cursor = db.cursor(buffered=2)\n",
    "cursor.execute(\"show databases\")\n",
    "result=cursor.fetchall()\n",
    "for row in result:\n",
    "    print(row)\n",
    "\n"
   ]
  },
  {
   "cell_type": "code",
   "execution_count": 42,
   "id": "e9acce37-bc65-4fd1-a145-0a1ed750c4be",
   "metadata": {},
   "outputs": [],
   "source": [
    "#creating a new database\n",
    "cursor.execute(\"create database revP0\")\n",
    "result=cursor.fetchall()\n",
    "for row in result:\n",
    "    print(row)\n"
   ]
  },
  {
   "cell_type": "code",
   "execution_count": 43,
   "id": "ae32a675-875c-4ad1-bd1c-063e19f65b17",
   "metadata": {},
   "outputs": [],
   "source": [
    "#using the database\n",
    "cursor.execute(\"use revP0\")"
   ]
  },
  {
   "cell_type": "code",
   "execution_count": 45,
   "id": "84a9e049-b513-49d5-93b6-5ea146f6cd0b",
   "metadata": {},
   "outputs": [],
   "source": [
    "#Designing a normalized database schema based on the insights gained \n",
    "#from EDA. \n",
    "#Ensuring that the schema adheres to database normalization principles\n",
    "#to avoid redundancy and ensure data integrity. \n",
    "cursor.execute(\n",
    "'''CREATE TABLE Customers (\n",
    " customer_id INT PRIMARY KEY,\n",
    " customer_name VARCHAR(255) NOT NULL,\n",
    " country VARCHAR(100),\n",
    " city VARCHAR(100)\n",
    ");''')\n",
    "cursor.execute(\n",
    "'''CREATE TABLE Products (\n",
    " product_id INT PRIMARY KEY,\n",
    " product_name VARCHAR(255) NOT NULL,\n",
    " product_category VARCHAR(100)\n",
    ");''')\n",
    "\n",
    "cursor.execute(\n",
    "'''CREATE TABLE Orders (\n",
    " order_id INT PRIMARY KEY,\n",
    " customer_id INT,\n",
    " product_id INT,\n",
    " qty INT NOT NULL,\n",
    " price DECIMAL(10, 2) NOT NULL,\n",
    " datetime DATETIME NOT NULL,\n",
    " ecommerce_website_name VARCHAR(255),\n",
    " FOREIGN KEY (customer_id) REFERENCES Customers(customer_id),\n",
    " FOREIGN KEY (product_id) REFERENCES Products(product_id)\n",
    ");\n",
    "''')\n",
    "cursor.execute('''\n",
    "CREATE TABLE Payments (\n",
    " payment_id INT PRIMARY KEY AUTO_INCREMENT,\n",
    " order_id INT,\n",
    " payment_type VARCHAR(50),\n",
    " payment_txn_id VARCHAR(100),\n",
    " payment_txn_success BOOLEAN,\n",
    " failure_reason TEXT,\n",
    " FOREIGN KEY (order_id) REFERENCES Orders(order_id)\n",
    "); ''')\n",
    "\n",
    "    "
   ]
  },
  {
   "cell_type": "code",
   "execution_count": 47,
   "id": "9265fa94-67de-433a-a3af-aa300cf78b06",
   "metadata": {},
   "outputs": [
    {
     "name": "stdout",
     "output_type": "stream",
     "text": [
      "('customers',)\n",
      "('orders',)\n",
      "('payments',)\n",
      "('products',)\n"
     ]
    }
   ],
   "source": [
    "#displaying all the tables\n",
    "cursor.execute(\"show tables\")\n",
    "result=cursor.fetchall()\n",
    "for row in result:\n",
    "    print(row)\n"
   ]
  },
  {
   "cell_type": "code",
   "execution_count": 53,
   "id": "ab5c594d-8f05-4794-a769-94624039375d",
   "metadata": {},
   "outputs": [],
   "source": [
    "import pandas as pd\n",
    "#1. Firstly, loading the JSON data using pandas:\n",
    "# Load JSON data\n",
    "customers_df = pd.read_json('customers.json')\n",
    "transaction_logs_df = pd.read_json('transaction_logs.json')\n",
    "transaction_logs_df['datetime'] = pd.to_datetime(transaction_logs_df['datetime'])\n",
    "transaction_logs_df['payment_txn_success'] = transaction_logs_df['payment_txn_success'].astype(bool)"
   ]
  },
  {
   "cell_type": "code",
   "execution_count": 58,
   "id": "c114c6c5-eece-4460-af3f-70dfa9b95197",
   "metadata": {},
   "outputs": [
    {
     "name": "stdout",
     "output_type": "stream",
     "text": [
      "Data inserted successfully.\n",
      "Customers table record count: 1000\n",
      "Products table record count: 6281\n",
      "Orders table record count: 10000\n",
      "Payments table record count: 10000\n",
      "Specific customer data found:\n",
      "   customer_id    customer_name country      city\n",
      "0         1731  Angie Dodson MD  Belize  Smithton\n",
      "Specific product data found:\n",
      "   product_id product_name product_category\n",
      "0        2409   Upon sport           Sports\n",
      "Specific order data found:\n",
      "   order_id  customer_id  product_id  qty     price            datetime  \\\n",
      "0         1         1731        8609   25  64216.00 2021-07-26 20:16:14   \n",
      "\n",
      "  ecommerce_website_name  \n",
      "0        www.bestbuy.com  \n",
      "Specific payment data found:\n",
      "   payment_id  order_id payment_type payment_txn_id  payment_txn_success  \\\n",
      "0           1         1       Wallet       a395e8c7                    1   \n",
      "\n",
      "  failure_reason  \n",
      "0   Card Expired  \n",
      "Foreign key constraints are correct.\n",
      "Empty DataFrame\n",
      "Columns: []\n",
      "Index: []\n",
      "Foreign key constraints are correct.\n",
      "Empty DataFrame\n",
      "Columns: []\n",
      "Index: []\n",
      "No duplicate records found in Products table.\n",
      "Empty DataFrame\n",
      "Columns: []\n",
      "Index: []\n",
      "No duplicate records found in Orders table.\n",
      "Empty DataFrame\n",
      "Columns: []\n",
      "Index: []\n"
     ]
    }
   ],
   "source": [
    "import pandas as pd\n",
    "import mysql.connector\n",
    "import time\n",
    "\n",
    "# Load JSON data\n",
    "customers_df = pd.read_json('customers.json')\n",
    "transaction_logs_df = pd.read_json('transaction_logs.json')\n",
    "\n",
    "# Convert datetime column to correct format\n",
    "transaction_logs_df['datetime'] = pd.to_datetime(transaction_logs_df['datetime'])\n",
    "transaction_logs_df['payment_txn_success'] = transaction_logs_df['payment_txn_success'].astype(bool)\n",
    "\n",
    "# Connection parameters\n",
    "conn_params = {\n",
    "    'host': 'localhost',\n",
    "    'user': 'root',  # Replace with your MySQL username\n",
    "    'password': 'Venkatasai@99',  # Replace with your MySQL password\n",
    "    'database': 'revP0'  # Replace with your MySQL database name\n",
    "}\n",
    "\n",
    "MAX_RETRIES = 5\n",
    "RETRY_DELAY = 2  # seconds\n",
    "\n",
    "def connect_to_db():\n",
    "    \"\"\"Establishes connection to the MySQL database.\"\"\"\n",
    "    return mysql.connector.connect(**conn_params)\n",
    "\n",
    "def insert_customers(cursor):\n",
    "    \"\"\"Inserts data into Customers table.\"\"\"\n",
    "    for index, row in customers_df.iterrows():\n",
    "        cursor.execute(\"\"\"\n",
    "            INSERT INTO Customers (customer_id, customer_name, country, city)\n",
    "            VALUES (%s, %s, %s, %s)\n",
    "            ON DUPLICATE KEY UPDATE\n",
    "            customer_name = VALUES(customer_name),\n",
    "            country = VALUES(country),\n",
    "            city = VALUES(city)\n",
    "        \"\"\", (row['customer_id'], row['customer_name'], row['country'], row['city']))\n",
    "\n",
    "def insert_products(cursor):\n",
    "    \"\"\"Inserts data into Products table.\"\"\"\n",
    "    products_df = transaction_logs_df[['product_id', 'product_name', 'product_category']].drop_duplicates()\n",
    "    for index, row in products_df.iterrows():\n",
    "        cursor.execute(\"\"\"\n",
    "            INSERT INTO Products (product_id, product_name, product_category)\n",
    "            VALUES (%s, %s, %s)\n",
    "            ON DUPLICATE KEY UPDATE\n",
    "            product_name = VALUES(product_name),\n",
    "            product_category = VALUES(product_category)\n",
    "        \"\"\", (row['product_id'], row['product_name'], row['product_category']))\n",
    "\n",
    "def insert_orders(cursor):\n",
    "    \"\"\"Inserts data into Orders table.\"\"\"\n",
    "    for index, row in transaction_logs_df.iterrows():\n",
    "        cursor.execute(\"\"\"\n",
    "            INSERT INTO Orders (order_id, customer_id, product_id, qty, price, datetime, ecommerce_website_name)\n",
    "            VALUES (%s, %s, %s, %s, %s, %s, %s)\n",
    "        \"\"\", (row['order_id'], row['customer_id'], row['product_id'], row['qty'], row['price'], row['datetime'], row['ecommerce_website_name']))\n",
    "\n",
    "def insert_payments(cursor):\n",
    "    \"\"\"Inserts data into Payments table.\"\"\"\n",
    "    for index, row in transaction_logs_df.iterrows():\n",
    "        cursor.execute(\"\"\"\n",
    "            INSERT INTO Payments (order_id, payment_type, payment_txn_id, payment_txn_success, failure_reason)\n",
    "            VALUES (%s, %s, %s, %s, %s)\n",
    "        \"\"\", (row['order_id'], row['payment_type'], row['payment_txn_id'], row['payment_txn_success'], row['failure_reason']))\n",
    "\n",
    "def insert_data():\n",
    "    \"\"\"Main function to insert data into all tables.\"\"\"\n",
    "    for attempt in range(MAX_RETRIES):\n",
    "        try:\n",
    "            # Connect to MySQL\n",
    "            conn = connect_to_db()\n",
    "            cursor = conn.cursor()\n",
    "\n",
    "            # Insert data into tables\n",
    "            insert_customers(cursor)\n",
    "            insert_products(cursor)\n",
    "            insert_orders(cursor)\n",
    "            insert_payments(cursor)\n",
    "\n",
    "            # Commit the transaction\n",
    "            conn.commit()\n",
    "            print(\"Data inserted successfully.\")\n",
    "            break  # Exit loop if successful\n",
    "\n",
    "        except mysql.connector.Error as err:\n",
    "            print(f\"Error: {err}\")\n",
    "            if err.errno == 1045:  # Access denied\n",
    "                print(\"Access denied for user. Please check credentials.\")\n",
    "                break  # Stop retrying\n",
    "            elif err.errno == 1205:  # Lock wait timeout\n",
    "                print(f\"Lock wait timeout exceeded. Retrying ({attempt + 1}/{MAX_RETRIES})...\")\n",
    "            elif err.errno == 2006:  # MySQL server has gone away\n",
    "                print(\"MySQL server has gone away. Reconnecting...\")\n",
    "            elif err.errno == 2055:  # Cursor is not connected\n",
    "                print(\"Cursor is not connected. Reconnecting...\")\n",
    "            time.sleep(RETRY_DELAY)\n",
    "\n",
    "            if 'conn' in locals() and conn.is_connected():\n",
    "                conn.rollback()  # Rollback the transaction\n",
    "        finally:\n",
    "            # Ensure resources are cleaned up\n",
    "            if 'conn' in locals() and conn.is_connected():\n",
    "                cursor.close()\n",
    "                conn.close()\n",
    "\n",
    "def execute_query(query):\n",
    "    \"\"\"Executes a given SQL query and returns the result as a pandas DataFrame.\"\"\"\n",
    "    conn = None\n",
    "    cursor = None\n",
    "    try:\n",
    "        # Connect to MySQL\n",
    "        conn = connect_to_db()\n",
    "        cursor = conn.cursor(dictionary=True)  # Use dictionary cursor for easy access\n",
    "        cursor.execute(query)\n",
    "        records = cursor.fetchall()\n",
    "        return pd.DataFrame(records)\n",
    "\n",
    "    except mysql.connector.Error as err:\n",
    "        print(f\"Error: {err}\")\n",
    "        return None\n",
    "\n",
    "    finally:\n",
    "        # Ensure resources are cleaned up\n",
    "        if cursor is not None:\n",
    "            cursor.close()\n",
    "        if conn is not None:\n",
    "            conn.close()\n",
    "\n",
    "\n",
    "def test_data_integrity():\n",
    "    \"\"\"Test queries to validate data integrity.\"\"\"\n",
    "    # 1. Testing Customers Table Record Count\n",
    "    query = \"SELECT COUNT(*) AS count FROM Customers\"\n",
    "    df = execute_query(query)\n",
    "    if df is not None:\n",
    "        print(f\"Customers table record count: {df.iloc[0]['count']}\")\n",
    "\n",
    "    # 2. Testing Products Table Record Count\n",
    "    query = \"SELECT COUNT(*) AS count FROM Products\"\n",
    "    df = execute_query(query)\n",
    "    if df is not None:\n",
    "        print(f\"Products table record count: {df.iloc[0]['count']}\")\n",
    "\n",
    "    # 3. Testing Orders Table Record Count\n",
    "    query = \"SELECT COUNT(*) AS count FROM Orders\"\n",
    "    df = execute_query(query)\n",
    "    if df is not None:\n",
    "        print(f\"Orders table record count: {df.iloc[0]['count']}\")\n",
    "\n",
    "    # 4. Testing Payments Table Record Count\n",
    "    query = \"SELECT COUNT(*) AS count FROM Payments\"\n",
    "    df = execute_query(query)\n",
    "    if df is not None:\n",
    "        print(f\"Payments table record count: {df.iloc[0]['count']}\")\n",
    "\n",
    "    # 5. Testing Specific Customer Data\n",
    "    query = \"SELECT * FROM Customers WHERE customer_id = 1731\"\n",
    "    df = execute_query(query)\n",
    "    if df is not None:\n",
    "        print(\"Specific customer data found:\" if not df.empty else \"No record found.\")\n",
    "        print(df)\n",
    "\n",
    "    # 6. Testing Specific Product Data\n",
    "    query = \"SELECT * FROM Products WHERE product_id = 2409\"\n",
    "    df = execute_query(query)\n",
    "    if df is not None:\n",
    "        print(\"Specific product data found:\" if not df.empty else \"No record found.\")\n",
    "        print(df)\n",
    "\n",
    "    # 7. Testing Specific Orders Data\n",
    "    query = \"SELECT * FROM Orders WHERE order_id = 1\"\n",
    "    df = execute_query(query)\n",
    "    if df is not None:\n",
    "        print(\"Specific order data found:\" if not df.empty else \"No record found.\")\n",
    "        print(df)\n",
    "\n",
    "    # 8. Testing Specific Payments Data\n",
    "    query = \"SELECT * FROM Payments WHERE order_id = 1\"\n",
    "    df = execute_query(query)\n",
    "    if df is not None:\n",
    "        print(\"Specific payment data found:\" if not df.empty else \"No record found.\")\n",
    "        print(df)\n",
    "\n",
    "    # 9. Testing Orders with Missing Customers\n",
    "    query = \"\"\"\n",
    "    SELECT * FROM Orders o\n",
    "    LEFT JOIN Customers c ON o.customer_id = c.customer_id\n",
    "    WHERE c.customer_id IS NULL\n",
    "    \"\"\"\n",
    "    df = execute_query(query)\n",
    "    if df is not None:\n",
    "        print(\"Foreign key constraints are correct.\" if df.empty else \"Foreign key constraints issue found:\")\n",
    "        print(df)\n",
    "\n",
    "    # 10. Testing Orders with Missing Products\n",
    "    query = \"\"\"\n",
    "    SELECT * FROM Orders o\n",
    "    LEFT JOIN Products p ON o.product_id = p.product_id\n",
    "    WHERE p.product_id IS NULL\n",
    "    \"\"\"\n",
    "    df = execute_query(query)\n",
    "    if df is not None:\n",
    "        print(\"Foreign key constraints are correct.\" if df.empty else \"Foreign key constraints issue found:\")\n",
    "        print(df)\n",
    "\n",
    "    # 11. Testing Duplicate Products\n",
    "    query = \"\"\"\n",
    "    SELECT product_id, COUNT(*) as count\n",
    "    FROM Products\n",
    "    GROUP BY product_id\n",
    "    HAVING COUNT(*) > 1\n",
    "    \"\"\"\n",
    "    df = execute_query(query)\n",
    "    if df is not None:\n",
    "        print(\"No duplicate records found in Products table.\" if df.empty else \"Duplicate records found in Products table:\")\n",
    "        print(df)\n",
    "\n",
    "    # 12. Testing Duplicate Orders\n",
    "    query = \"\"\"\n",
    "    SELECT order_id, COUNT(*) as count\n",
    "    FROM Orders\n",
    "    GROUP BY order_id\n",
    "    HAVING COUNT(*) > 1\n",
    "    \"\"\"\n",
    "    df = execute_query(query)\n",
    "    if df is not None:\n",
    "        print(\"No duplicate records found in Orders table.\" if df.empty else \"Duplicate records found in Orders table:\")\n",
    "        print(df)\n",
    "\n",
    "# Run data insertion and tests\n",
    "insert_data()\n",
    "test_data_integrity()\n"
   ]
  },
  {
   "cell_type": "code",
   "execution_count": null,
   "id": "203a90b7-b956-4404-b3b9-12aa8bc22304",
   "metadata": {},
   "outputs": [],
   "source": []
  }
 ],
 "metadata": {
  "kernelspec": {
   "display_name": "Python 3 (ipykernel)",
   "language": "python",
   "name": "python3"
  },
  "language_info": {
   "codemirror_mode": {
    "name": "ipython",
    "version": 3
   },
   "file_extension": ".py",
   "mimetype": "text/x-python",
   "name": "python",
   "nbconvert_exporter": "python",
   "pygments_lexer": "ipython3",
   "version": "3.10.1"
  }
 },
 "nbformat": 4,
 "nbformat_minor": 5
}
